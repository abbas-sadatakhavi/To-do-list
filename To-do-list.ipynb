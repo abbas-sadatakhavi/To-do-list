{
 "cells": [
  {
   "cell_type": "code",
   "execution_count": 6,
   "metadata": {},
   "outputs": [
    {
     "name": "stdout",
     "output_type": "stream",
     "text": [
      "1-asdfsadf\n",
      "Don't type bullshit!\n",
      "Don't type bullshit!\n",
      "Don't type bullshit!\n",
      "bye!\n"
     ]
    }
   ],
   "source": [
    "todos = []\n",
    "\n",
    "\n",
    "while True:\n",
    "    user_action = input(\"Type add, show, edit or exit: \")\n",
    "    user_action = user_action.strip()\n",
    "\n",
    "    match user_action:\n",
    "        case 'add':\n",
    "            todo = input(\"Enter a todo: \")\n",
    "            todos.append(todo)\n",
    "        case 'show':\n",
    "            for index, item in enumerate(todos):\n",
    "                row = f\"{index + 1}-{item}\"\n",
    "                print(row)\n",
    "        case 'edit':\n",
    "            number = int(input(\"Number of the todo to edit: \"))\n",
    "            number = number - 1\n",
    "            new_todo = input(\"Enter new todo: \")\n",
    "            todos[number] = new_todo\n",
    "        case 'complete':\n",
    "            number = int(input(\"Number of the todo to complete: \"))\n",
    "            todos.pop(number - 1)\n",
    "        case 'exit':\n",
    "            break\n",
    "        case _:\n",
    "            print(\"Don't type bullshit!\")\n",
    "            \n",
    "print(\"bye!\")\n"
   ]
  },
  {
   "cell_type": "code",
   "execution_count": null,
   "metadata": {},
   "outputs": [],
   "source": [
    "match user_action:\n",
    "case 'add':\n",
    "todo = input(\"Enter a todo: \") + \"\\n\"\n",
    "· file = open('todos.txt', 'r')\n",
    "todos = file.readlines()\n",
    "file.close()\n",
    "I\n",
    "todos.append(todo)\n",
    "file = open('todos.txt', 'w') file.writelines (todos)\n",
    "file.close()\n",
    "case 'show':\n",
    "file = open('todos.txt', 'r') todos = file.readlines()\n",
    "file.close()\n",
    "for index, item in enumerate(todos):\n",
    "row = f\"{index + 1}-{item}\"\n",
    "print(row)"
   ]
  }
 ],
 "metadata": {
  "kernelspec": {
   "display_name": "Python 3.11.4 64-bit",
   "language": "python",
   "name": "python3"
  },
  "language_info": {
   "codemirror_mode": {
    "name": "ipython",
    "version": 3
   },
   "file_extension": ".py",
   "mimetype": "text/x-python",
   "name": "python",
   "nbconvert_exporter": "python",
   "pygments_lexer": "ipython3",
   "version": "3.11.4"
  },
  "vscode": {
   "interpreter": {
    "hash": "bfed7c90328306d549592256e210a8fdfe24295bc39ac3e16b9c6f4dde64a030"
   }
  }
 },
 "nbformat": 4,
 "nbformat_minor": 4
}
