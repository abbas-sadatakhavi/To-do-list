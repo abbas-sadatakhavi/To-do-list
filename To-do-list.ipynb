{
 "cells": [
  {
   "cell_type": "code",
   "execution_count": null,
   "metadata": {},
   "outputs": [],
   "source": [
    "todos = []\n",
    "\n",
    "\n",
    "while True:\n",
    "    user_action = input(\"Type add, show, edit or exit: \")\n",
    "    user_action = user_action.strip()\n",
    "\n",
    "    match user_action:\n",
    "        case 'add':\n",
    "            todo = input(\"Enter a todo: \")\n",
    "            todos.append(todo)\n",
    "        case 'show':\n",
    "            for index, item in enumerate(todos):\n",
    "                row = f\"{index + 1}-{item}\"\n",
    "                print(row)\n",
    "        case 'edit':\n",
    "            number = int(input(\"Number of the todo to edit: \"))\n",
    "            number = number - 1\n",
    "            new_todo = input(\"Enter new todo: \")\n",
    "            todos[number] = new_todo\n",
    "        case 'complete':\n",
    "            number = int(input(\"Number of the todo to complete: \"))\n",
    "            todos.pop(number - 1)\n",
    "        case 'exit':\n",
    "            break\n",
    "        case _:\n",
    "            print(\"Don't type bullshit!\")\n",
    "            \n",
    "print(\"bye!\")\n"
   ]
  },
  {
   "cell_type": "code",
   "execution_count": null,
   "metadata": {},
   "outputs": [],
   "source": [
    "match user_action:\n",
    "case 'add':\n",
    "todo = input(\"Enter a todo: \") + \"\\n\"\n",
    "· file = open('todos.txt', 'r')\n",
    "todos = file.readlines()\n",
    "file.close()\n",
    "I\n",
    "todos.append(todo)\n",
    "file = open('todos.txt', 'w') file.writelines (todos)\n",
    "file.close()\n",
    "case 'show':\n",
    "file = open('todos.txt', 'r') todos = file.readlines()\n",
    "file.close()\n",
    "for index, item in enumerate(todos):\n",
    "row = f\"{index + 1}-{item}\"\n",
    "print(row)"
   ]
  },
  {
   "cell_type": "code",
   "execution_count": 4,
   "metadata": {},
   "outputs": [
    {
     "name": "stdout",
     "output_type": "stream",
     "text": [
      "['task1\\n', 'task2\\n']\n",
      "1 task1\n",
      "2 task2\n"
     ]
    }
   ],
   "source": [
    "with open('todos.txt', 'r') as file:\n",
    "    todos_list = file.readlines() \n",
    "    print( todos_list)\n",
    "for index,item in enumerate(todos_list):\n",
    "    print(f\"{index+1} {item.strip()}\") #readline added \\n so we use .stip() to remove it "
   ]
  },
  {
   "cell_type": "code",
   "execution_count": 8,
   "metadata": {},
   "outputs": [
    {
     "name": "stdout",
     "output_type": "stream",
     "text": [
      "1 task\n",
      "2 task\n"
     ]
    }
   ],
   "source": [
    "for index,item in enumerate(['task', 'task']):\n",
    "    print(f\"{index+1} {item}\")\n"
   ]
  },
  {
   "cell_type": "code",
   "execution_count": 5,
   "metadata": {},
   "outputs": [],
   "source": [
    "import PySimpleGUI"
   ]
  },
  {
   "cell_type": "code",
   "execution_count": 3,
   "metadata": {},
   "outputs": [
    {
     "data": {
      "text/plain": [
       "['/mnt/d/Python-projects/To-do-list',\n",
       " '/home/sajad/anaconda3/lib/python37.zip',\n",
       " '/home/sajad/anaconda3/lib/python3.7',\n",
       " '/home/sajad/anaconda3/lib/python3.7/lib-dynload',\n",
       " '',\n",
       " '/home/sajad/anaconda3/lib/python3.7/site-packages',\n",
       " '/home/sajad/anaconda3/lib/python3.7/site-packages/IPython/extensions',\n",
       " '/home/sajad/.ipython']"
      ]
     },
     "execution_count": 3,
     "metadata": {},
     "output_type": "execute_result"
    }
   ],
   "source": [
    "import sys\n",
    "sys.path"
   ]
  }
 ],
 "metadata": {
  "kernelspec": {
   "display_name": "Python 3",
   "language": "python",
   "name": "python3"
  },
  "language_info": {
   "codemirror_mode": {
    "name": "ipython",
    "version": 3
   },
   "file_extension": ".py",
   "mimetype": "text/x-python",
   "name": "python",
   "nbconvert_exporter": "python",
   "pygments_lexer": "ipython3",
   "version": "3.7.6"
  },
  "vscode": {
   "interpreter": {
    "hash": "bfed7c90328306d549592256e210a8fdfe24295bc39ac3e16b9c6f4dde64a030"
   }
  }
 },
 "nbformat": 4,
 "nbformat_minor": 4
}
